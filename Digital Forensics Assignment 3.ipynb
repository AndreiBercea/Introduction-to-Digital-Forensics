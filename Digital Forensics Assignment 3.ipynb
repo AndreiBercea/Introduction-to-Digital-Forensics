{
 "cells": [
  {
   "cell_type": "markdown",
   "metadata": {},
   "source": [
    "## Digital Forensics Assignment 3\n",
    "\n",
    "### Group 2\n",
    "\n",
    "<br>\n",
    "\n",
    "#### Andrei Bercea (s2170906)\n",
    "#### Iwan Grinwis (s2184222)\n",
    "#### David Lütke-Sunderhaus (s2184389)\n",
    "#### Danique Lummen (s1853155)\n",
    "#### Jana Westermann (s2085887)\n",
    "#### Pin Ni Yoong (s2161974)\n",
    "<br><br>"
   ]
  },
  {
   "cell_type": "markdown",
   "metadata": {},
   "source": [
    "***Introduction***\n",
    "\n",
    "In this assignment, the records in the database of a booter website, TWBooter, that was leaked by a cybersecurity journalist, Brian Krebs, are investigated.\n",
    "\n",
    "***Methodology***\n",
    "\n",
    "For this assignment, any software which allows viewing/editing spreadsheets would have worked. We have filtered through the table by using inbuilt functions in either Google Sheets or Microsoft Excel.\n",
    "\n",
    "<br><br>\n",
    "*I. The total number of attack records?*<br>48774\n",
    "\n",
    "*II. Number of unique users?*<br>277\n",
    "\n",
    "*III. Top 10 victim IP addresses ?*\n",
    "<ol>\n",
    "<li>87.106.136.156</li>\n",
    "<li>212.7.214.197</li>\n",
    "<li>176.31.90.154</li>\n",
    "<li>72.9.144.6</li>\n",
    "<li>186.202.153.45</li>\n",
    "<li>69.162.77.11</li>\n",
    "<li>198.1.122.66</li>\n",
    "<li>70.39.68.226</li>\n",
    "<li>85.114.128.90</li>\n",
    "<li>100.42.216.59</li>\n",
    "</ol>\n",
    "\n",
    "*IV. Top 10 victim domain names?*<ol><li>\n",
    "[http://www.relog.co.il](http://www.relog.co.il)</li>\n",
    "    <li>\n",
    "[http://rewards.yourpshome.net](http://rewards.yourpshome.net)</li>\n",
    "    <li>\n",
    "[http://pshomecentral.net](http://pshomecentral.net)</li>\n",
    "    <li>\n",
    "[http://ajnabi.vchats.info/](http://ajnabi.vchats.info/)</li>\n",
    "    <li>\n",
    "[http://rewards.yourpshome.net/](http://rewards.yourpshome.net/)</li>\n",
    "    <li>\n",
    "[http://ajnabi.vchats.info/](http://ajnabi.vchats.info/)</li>\n",
    "    <li>\n",
    "[http://www.nordicmakten.com](http://www.nordicmakten.com)</li>\n",
    "    <li>\n",
    "[http://www.nordicmafia.net](http://www.nordicmafia.net)</li>\n",
    "    <li>\n",
    "[http://www.yourpshome.net](http://www.yourpshome.net)</li>\n",
    "    <li>\n",
    "[http://lapdonline.org](http://lapdonline.org)</li>\n",
    "</ol>\n",
    "\n",
    "*V. The longest attack duration?*<br>500000\n",
    "\n",
    "*VI. Top 3 attack type?*<br>ESSYN:19619<br>RUDY: 5809<br>UDP: 10506<br>\n",
    "\n",
    "*VII. Which owner ID performed most of the attacks?*<br>Owner ID 272 performed 2307 attacks.\n",
    "\n",
    "*VIII. How many attacks 'krebsonsecurity.com' suffered?*<br>2\n",
    "\n",
    "*IX. Add two statistics that I didn't list above.*<br>One of the statistics could, for instance, be the highest number of attacks coming from the same owner ID, which we gave in question 7 (i.e. 2307 attacks from the same source).<br>Another statistic that can come in useful for system administrators who want to defend against such an attack is the targeted protocol. In this particular one, the most common protocol is 80/ESSYN. For this statistic, we looked at the most repetitive entry of columns E and D combined (i.e. port service type & type).\n"
   ]
  },
  {
   "cell_type": "markdown",
   "metadata": {},
   "source": [
    "***Conclusion***\n",
    "\n",
    "It was insightful, being able to go behind the curtains and take a peek at the database of a shady business, as is a booter website. It sheds some light on the fact that no actions you take come without repercussions. Even though services such as a booter website or even a VPN provider try to advertise anonymity, in most cases the trail left behind will be long enough for the respective authorities to identify the individual/entity in question."
   ]
  },
  {
   "cell_type": "code",
   "execution_count": null,
   "metadata": {},
   "outputs": [],
   "source": []
  }
 ],
 "metadata": {
  "kernelspec": {
   "display_name": "Python 3",
   "language": "python",
   "name": "python3"
  },
  "language_info": {
   "codemirror_mode": {
    "name": "ipython",
    "version": 3
   },
   "file_extension": ".py",
   "mimetype": "text/x-python",
   "name": "python",
   "nbconvert_exporter": "python",
   "pygments_lexer": "ipython3",
   "version": "3.6.9"
  }
 },
 "nbformat": 4,
 "nbformat_minor": 4
}
