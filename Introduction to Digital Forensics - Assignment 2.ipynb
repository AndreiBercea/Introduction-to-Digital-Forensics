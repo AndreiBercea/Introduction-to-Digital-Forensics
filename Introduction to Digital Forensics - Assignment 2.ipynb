{
 "cells": [
  {
   "cell_type": "markdown",
   "metadata": {},
   "source": [
    "## Digital Forensics Assignment 2\n",
    "### Group 2\n",
    "##### Andrei Bercea (s2170906)\n",
    "##### Iwan Grinwis (s2184222)\n",
    "##### David Lütke-Sunderhaus (s2184389)\n",
    "##### Danique Lummen (s1853155)\n",
    "##### Jana Westermann (s2085887)\n",
    "##### Pin Ni Yoong (s2161974)\n",
    "\n",
    "\n"
   ]
  },
  {
   "cell_type": "markdown",
   "metadata": {},
   "source": [
    "***Introduction***\n",
    "\n",
    "For this assignment, a previously captured trace of a real life DDoS attack is examined. The goal of this exercise is to find out the details of the attack as well as exclude packets not part of the attack. This serves both as practice in examining packets as well as getting better at analysing and evaluating the data gathered by a packet sniffer."
   ]
  },
  {
   "cell_type": "markdown",
   "metadata": {},
   "source": [
    "***Methodology***\n",
    "\n",
    "In order to analyse the trace, the packet sniffer WireShark was used. The first step was to look at the trace as a whole. After this, the attack itself was further examined by identifying packets that did not seem to be part of the attack."
   ]
  },
  {
   "cell_type": "markdown",
   "metadata": {},
   "source": [
    "**1. How many records are in the entire trace?**\n",
    "\n",
    "122233\n",
    "\n",
    "**2. What is the duration of the entire trace ?**\n",
    "\n",
    "25.343013\n",
    "\n",
    "**3. Add print-screens of 3 examples of packets that are NOT part of the attack. Explain what those packets are.**\n",
    "\n",
    "![img1](img/DF1.png)\n",
    "15 and 16 are the attacked system responding to the package they got from the attacker.\n",
    "![img2](img/DF2.png)\n",
    "14 is a failed attempt at responding to the attack and the package simply coming back.\n",
    "\n",
    "**4. What are the characteristics of the attack (aka fingerprint)? Remember: the fingerprint are the characteristics that most repeat targeting a single destination IP. Traffic FROM the victim to the IP addresses in the network trace are NOT part of the attack. Tip: isolate 1 source and 1 destination IP and see if the same pattern applies to the other source IP addresses.**\n",
    "\n",
    "- UDP source port = 53\n",
    "- Fixed packet length for source-destination pair\n",
    "- Query response without a request\n",
    "- Amplified response packet size (multiplication factor: 5x ~ 40x)\n",
    "- Recursion queries\n",
    "- This all points towards a DNS amplification attack.\n",
    "\n",
    "**5. What a Wireshark filter of the attack looks like?**\n",
    "\n",
    "```(ip.dst eq 172.31.28.132) and (udp.port eq 53) and dns```\n",
    "\n",
    "Normally, one would also take a look at the answer RRs received per question, but in this case, not all of them seem to use that as a factor of multiplication, so we will leave it out; otherwise, we’d cut out part of the communication.\n",
    "\n",
    "**6. Which is the target (destination) IP of the attack?**\n",
    "\n",
    "172.31.28.132\n",
    "\n",
    "**7. How many records are part of the attack?**\n",
    "\n",
    "122.126\n",
    "\n",
    "**8. How many unique (source) IP addresses performed the attack?**\n",
    "\n",
    "81 different IP addresses.\n",
    "\n",
    "**9. Which top 3 source IP addresses sent more packets in the attack?**\n",
    "\n",
    "37.123.96.179 > 11126 packets\n",
    "61.93.9.158 > 8086 packets\n",
    "121.32.89.198 > 6261 packets\n",
    "\n",
    "**10. Where are these top 3 source IP geolocated?**\n",
    "\n",
    "37.123.96.179 > Turkey\n",
    "61.93.9.158 > Hong Kong\n",
    "121.32.89.198 > China\n",
    "\n",
    "**11. Which Autonomous Systems are related to these top 3 source IP addresses?**\n",
    "\n",
    "```37.123.96.179    57844    SPD-NET, TR    37.123.96.0/24\n",
    "61.93.9.158    9269    HKBN-AS-AP Hong Kong Broadband Network Ltd., HK    61.93.0.0/18\n",
    "121.32.89.198    4134    CHINANET-BACKBONE No.31,Jin-rong Street, CN    121.32.0.0/14```\n",
    "\n",
    "**12. What is the distribution of vendors related to the source IP addresses involved in the attack? Tip: use MAC address to Vendor. Ask Google.**\n",
    "\n",
    "Since we don’t have the universally administered addresses assigned by the manufacturers, we cannot find out the OUI and, as a result, neither the vendors.\n",
    "\n",
    "**13. What is/are the source port(s) involved in the attack?**\n",
    "\n",
    "53\n",
    "\n",
    "**14. How much was the data rate peak of the attack [Mbits/second]?**\n",
    "\n",
    "The highest peak was at 110.152 Mbits/second.\n",
    "\n",
    "**15. What is the distribution/frequency of TCP flags involved in the attack?**\n",
    "\n",
    "There is only one TCP packet sent in the whole capture and that is a TCP RST, which, in the context, could be considered as a ‘TCP reset attack’, with the purpose of terminating the internet connection.\n",
    "\n",
    "However, since this is a DNS multiplication attack, it holds no purpose to terminate the TCP connection, so this flag, here, is redundant.\n",
    "\n",
    "**16. What is the distribution/frequency of packet length (\"total length\")?**\n",
    "\n",
    "![img3](img/DF3.png)"
   ]
  },
  {
   "cell_type": "markdown",
   "metadata": {},
   "source": [
    "***Conclusion***\n",
    "\n",
    "This is a standard DDoS attack. One cal tell right away this is a DNS mutliplication attack, judging by the protocol of the packets, the UDP source port used and the numerous repetitive query responses lacking a request.\n",
    "Unfortunately, due to the locally administered MAC adresses, we were not able to pinpoint the vendors and, as such, if this would've been a real attack, we wouldn't have known by whom it was orchestrated."
   ]
  },
  {
   "cell_type": "code",
   "execution_count": null,
   "metadata": {},
   "outputs": [],
   "source": []
  }
 ],
 "metadata": {
  "kernelspec": {
   "display_name": "Python 3",
   "language": "python",
   "name": "python3"
  },
  "language_info": {
   "codemirror_mode": {
    "name": "ipython",
    "version": 3
   },
   "file_extension": ".py",
   "mimetype": "text/x-python",
   "name": "python",
   "nbconvert_exporter": "python",
   "pygments_lexer": "ipython3",
   "version": "3.6.9"
  }
 },
 "nbformat": 4,
 "nbformat_minor": 4
}
